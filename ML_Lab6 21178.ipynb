{
 "cells": [
  {
   "cell_type": "code",
   "execution_count": 1,
   "id": "fd70e5da-ae81-4b0d-8ed3-585b14f3a2fd",
   "metadata": {},
   "outputs": [],
   "source": [
    "import numpy as np\n",
    "import pandas as pd\n",
    "import matplotlib.pyplot as plt\n",
    "import seaborn as sns"
   ]
  },
  {
   "cell_type": "markdown",
   "id": "75fedf79-5e11-4700-bac0-338585ecebca",
   "metadata": {},
   "source": [
    "## A1"
   ]
  },
  {
   "cell_type": "markdown",
   "id": "138e8173-f69b-46ed-97e5-fcc94f6b011c",
   "metadata": {},
   "source": [
    "Take any 2 features from your project having has real numeric values. Make a scatter plot of the \n",
    "data and observe the pattern."
   ]
  },
  {
   "cell_type": "code",
   "execution_count": 2,
   "id": "55420acc-705e-4d69-b1fc-c949c5ab5fd1",
   "metadata": {},
   "outputs": [
    {
     "data": {
      "text/html": [
       "<div>\n",
       "<style scoped>\n",
       "    .dataframe tbody tr th:only-of-type {\n",
       "        vertical-align: middle;\n",
       "    }\n",
       "\n",
       "    .dataframe tbody tr th {\n",
       "        vertical-align: top;\n",
       "    }\n",
       "\n",
       "    .dataframe thead th {\n",
       "        text-align: right;\n",
       "    }\n",
       "</style>\n",
       "<table border=\"1\" class=\"dataframe\">\n",
       "  <thead>\n",
       "    <tr style=\"text-align: right;\">\n",
       "      <th></th>\n",
       "      <th>Label</th>\n",
       "      <th>embed_0</th>\n",
       "      <th>embed_1</th>\n",
       "      <th>embed_2</th>\n",
       "      <th>embed_3</th>\n",
       "      <th>embed_4</th>\n",
       "      <th>embed_5</th>\n",
       "      <th>embed_6</th>\n",
       "      <th>embed_7</th>\n",
       "      <th>embed_8</th>\n",
       "      <th>...</th>\n",
       "      <th>embed_758</th>\n",
       "      <th>embed_759</th>\n",
       "      <th>embed_760</th>\n",
       "      <th>embed_761</th>\n",
       "      <th>embed_762</th>\n",
       "      <th>embed_763</th>\n",
       "      <th>embed_764</th>\n",
       "      <th>embed_765</th>\n",
       "      <th>embed_766</th>\n",
       "      <th>embed_767</th>\n",
       "    </tr>\n",
       "  </thead>\n",
       "  <tbody>\n",
       "    <tr>\n",
       "      <th>0</th>\n",
       "      <td>0</td>\n",
       "      <td>0.009625</td>\n",
       "      <td>-0.029216</td>\n",
       "      <td>0.027109</td>\n",
       "      <td>0.023631</td>\n",
       "      <td>-0.004972</td>\n",
       "      <td>0.031757</td>\n",
       "      <td>-0.045125</td>\n",
       "      <td>0.044483</td>\n",
       "      <td>0.019400</td>\n",
       "      <td>...</td>\n",
       "      <td>-0.045697</td>\n",
       "      <td>-0.001972</td>\n",
       "      <td>-0.008154</td>\n",
       "      <td>-0.056139</td>\n",
       "      <td>0.009890</td>\n",
       "      <td>0.042366</td>\n",
       "      <td>0.040134</td>\n",
       "      <td>0.009304</td>\n",
       "      <td>-0.016137</td>\n",
       "      <td>-0.009309</td>\n",
       "    </tr>\n",
       "    <tr>\n",
       "      <th>1</th>\n",
       "      <td>0</td>\n",
       "      <td>-0.007535</td>\n",
       "      <td>-0.039844</td>\n",
       "      <td>0.030167</td>\n",
       "      <td>0.031224</td>\n",
       "      <td>0.004742</td>\n",
       "      <td>0.028289</td>\n",
       "      <td>-0.068723</td>\n",
       "      <td>0.039153</td>\n",
       "      <td>0.019596</td>\n",
       "      <td>...</td>\n",
       "      <td>-0.056834</td>\n",
       "      <td>0.008613</td>\n",
       "      <td>-0.006578</td>\n",
       "      <td>-0.034220</td>\n",
       "      <td>0.027574</td>\n",
       "      <td>0.045456</td>\n",
       "      <td>0.027402</td>\n",
       "      <td>0.017837</td>\n",
       "      <td>-0.035009</td>\n",
       "      <td>-0.010062</td>\n",
       "    </tr>\n",
       "    <tr>\n",
       "      <th>2</th>\n",
       "      <td>0</td>\n",
       "      <td>0.022408</td>\n",
       "      <td>-0.030840</td>\n",
       "      <td>0.032328</td>\n",
       "      <td>0.046965</td>\n",
       "      <td>0.007798</td>\n",
       "      <td>0.025860</td>\n",
       "      <td>-0.065093</td>\n",
       "      <td>0.035118</td>\n",
       "      <td>0.035359</td>\n",
       "      <td>...</td>\n",
       "      <td>-0.016249</td>\n",
       "      <td>0.020413</td>\n",
       "      <td>-0.034288</td>\n",
       "      <td>-0.050649</td>\n",
       "      <td>0.028408</td>\n",
       "      <td>0.040412</td>\n",
       "      <td>0.030261</td>\n",
       "      <td>0.003535</td>\n",
       "      <td>-0.034122</td>\n",
       "      <td>-0.017289</td>\n",
       "    </tr>\n",
       "    <tr>\n",
       "      <th>3</th>\n",
       "      <td>0</td>\n",
       "      <td>0.019677</td>\n",
       "      <td>-0.034055</td>\n",
       "      <td>0.012662</td>\n",
       "      <td>0.070387</td>\n",
       "      <td>-0.011170</td>\n",
       "      <td>0.017842</td>\n",
       "      <td>-0.050945</td>\n",
       "      <td>0.044878</td>\n",
       "      <td>0.034781</td>\n",
       "      <td>...</td>\n",
       "      <td>-0.038879</td>\n",
       "      <td>0.002963</td>\n",
       "      <td>-0.018754</td>\n",
       "      <td>-0.053278</td>\n",
       "      <td>0.033005</td>\n",
       "      <td>0.031635</td>\n",
       "      <td>0.022544</td>\n",
       "      <td>-0.011774</td>\n",
       "      <td>-0.011125</td>\n",
       "      <td>-0.017540</td>\n",
       "    </tr>\n",
       "    <tr>\n",
       "      <th>4</th>\n",
       "      <td>0</td>\n",
       "      <td>0.017678</td>\n",
       "      <td>-0.030323</td>\n",
       "      <td>0.012829</td>\n",
       "      <td>0.065267</td>\n",
       "      <td>-0.025161</td>\n",
       "      <td>0.011964</td>\n",
       "      <td>-0.050590</td>\n",
       "      <td>0.042820</td>\n",
       "      <td>0.029161</td>\n",
       "      <td>...</td>\n",
       "      <td>-0.042079</td>\n",
       "      <td>0.010192</td>\n",
       "      <td>-0.010147</td>\n",
       "      <td>-0.035857</td>\n",
       "      <td>0.021784</td>\n",
       "      <td>0.034621</td>\n",
       "      <td>0.017342</td>\n",
       "      <td>-0.009884</td>\n",
       "      <td>-0.010316</td>\n",
       "      <td>-0.029238</td>\n",
       "    </tr>\n",
       "    <tr>\n",
       "      <th>...</th>\n",
       "      <td>...</td>\n",
       "      <td>...</td>\n",
       "      <td>...</td>\n",
       "      <td>...</td>\n",
       "      <td>...</td>\n",
       "      <td>...</td>\n",
       "      <td>...</td>\n",
       "      <td>...</td>\n",
       "      <td>...</td>\n",
       "      <td>...</td>\n",
       "      <td>...</td>\n",
       "      <td>...</td>\n",
       "      <td>...</td>\n",
       "      <td>...</td>\n",
       "      <td>...</td>\n",
       "      <td>...</td>\n",
       "      <td>...</td>\n",
       "      <td>...</td>\n",
       "      <td>...</td>\n",
       "      <td>...</td>\n",
       "      <td>...</td>\n",
       "    </tr>\n",
       "    <tr>\n",
       "      <th>895</th>\n",
       "      <td>2</td>\n",
       "      <td>0.019743</td>\n",
       "      <td>-0.071799</td>\n",
       "      <td>0.022546</td>\n",
       "      <td>0.049042</td>\n",
       "      <td>-0.005767</td>\n",
       "      <td>-0.016275</td>\n",
       "      <td>-0.037731</td>\n",
       "      <td>0.029718</td>\n",
       "      <td>0.009203</td>\n",
       "      <td>...</td>\n",
       "      <td>-0.040456</td>\n",
       "      <td>-0.001192</td>\n",
       "      <td>-0.026138</td>\n",
       "      <td>-0.056447</td>\n",
       "      <td>0.015818</td>\n",
       "      <td>0.045241</td>\n",
       "      <td>0.012620</td>\n",
       "      <td>-0.004837</td>\n",
       "      <td>-0.014540</td>\n",
       "      <td>-0.046791</td>\n",
       "    </tr>\n",
       "    <tr>\n",
       "      <th>896</th>\n",
       "      <td>0</td>\n",
       "      <td>0.000186</td>\n",
       "      <td>-0.027604</td>\n",
       "      <td>0.010623</td>\n",
       "      <td>0.038237</td>\n",
       "      <td>-0.026675</td>\n",
       "      <td>0.020215</td>\n",
       "      <td>-0.040816</td>\n",
       "      <td>0.032210</td>\n",
       "      <td>0.041016</td>\n",
       "      <td>...</td>\n",
       "      <td>-0.026985</td>\n",
       "      <td>0.015479</td>\n",
       "      <td>-0.003967</td>\n",
       "      <td>-0.037808</td>\n",
       "      <td>0.021234</td>\n",
       "      <td>0.031012</td>\n",
       "      <td>-0.010890</td>\n",
       "      <td>0.003081</td>\n",
       "      <td>-0.015145</td>\n",
       "      <td>-0.045444</td>\n",
       "    </tr>\n",
       "    <tr>\n",
       "      <th>897</th>\n",
       "      <td>2</td>\n",
       "      <td>0.018066</td>\n",
       "      <td>-0.032152</td>\n",
       "      <td>0.039794</td>\n",
       "      <td>0.047608</td>\n",
       "      <td>0.003898</td>\n",
       "      <td>0.024092</td>\n",
       "      <td>-0.056508</td>\n",
       "      <td>0.020527</td>\n",
       "      <td>0.031972</td>\n",
       "      <td>...</td>\n",
       "      <td>-0.041547</td>\n",
       "      <td>0.011308</td>\n",
       "      <td>-0.016882</td>\n",
       "      <td>-0.059904</td>\n",
       "      <td>0.009558</td>\n",
       "      <td>0.039976</td>\n",
       "      <td>0.029574</td>\n",
       "      <td>0.013737</td>\n",
       "      <td>-0.003724</td>\n",
       "      <td>-0.017324</td>\n",
       "    </tr>\n",
       "    <tr>\n",
       "      <th>898</th>\n",
       "      <td>5</td>\n",
       "      <td>-0.003492</td>\n",
       "      <td>-0.022739</td>\n",
       "      <td>0.021777</td>\n",
       "      <td>0.044054</td>\n",
       "      <td>-0.005621</td>\n",
       "      <td>0.013863</td>\n",
       "      <td>-0.079196</td>\n",
       "      <td>0.039150</td>\n",
       "      <td>0.004557</td>\n",
       "      <td>...</td>\n",
       "      <td>-0.057920</td>\n",
       "      <td>0.004005</td>\n",
       "      <td>-0.007196</td>\n",
       "      <td>-0.041652</td>\n",
       "      <td>0.020945</td>\n",
       "      <td>0.047604</td>\n",
       "      <td>0.019767</td>\n",
       "      <td>0.005806</td>\n",
       "      <td>-0.019280</td>\n",
       "      <td>-0.016415</td>\n",
       "    </tr>\n",
       "    <tr>\n",
       "      <th>899</th>\n",
       "      <td>2</td>\n",
       "      <td>0.013689</td>\n",
       "      <td>-0.037855</td>\n",
       "      <td>0.039763</td>\n",
       "      <td>0.035750</td>\n",
       "      <td>0.004115</td>\n",
       "      <td>0.005637</td>\n",
       "      <td>-0.050556</td>\n",
       "      <td>0.024668</td>\n",
       "      <td>0.025077</td>\n",
       "      <td>...</td>\n",
       "      <td>-0.039500</td>\n",
       "      <td>-0.000129</td>\n",
       "      <td>-0.003880</td>\n",
       "      <td>-0.048696</td>\n",
       "      <td>0.015711</td>\n",
       "      <td>0.039773</td>\n",
       "      <td>0.036328</td>\n",
       "      <td>0.010483</td>\n",
       "      <td>-0.021304</td>\n",
       "      <td>-0.032017</td>\n",
       "    </tr>\n",
       "  </tbody>\n",
       "</table>\n",
       "<p>900 rows × 769 columns</p>\n",
       "</div>"
      ],
      "text/plain": [
       "     Label   embed_0   embed_1   embed_2   embed_3   embed_4   embed_5  \\\n",
       "0        0  0.009625 -0.029216  0.027109  0.023631 -0.004972  0.031757   \n",
       "1        0 -0.007535 -0.039844  0.030167  0.031224  0.004742  0.028289   \n",
       "2        0  0.022408 -0.030840  0.032328  0.046965  0.007798  0.025860   \n",
       "3        0  0.019677 -0.034055  0.012662  0.070387 -0.011170  0.017842   \n",
       "4        0  0.017678 -0.030323  0.012829  0.065267 -0.025161  0.011964   \n",
       "..     ...       ...       ...       ...       ...       ...       ...   \n",
       "895      2  0.019743 -0.071799  0.022546  0.049042 -0.005767 -0.016275   \n",
       "896      0  0.000186 -0.027604  0.010623  0.038237 -0.026675  0.020215   \n",
       "897      2  0.018066 -0.032152  0.039794  0.047608  0.003898  0.024092   \n",
       "898      5 -0.003492 -0.022739  0.021777  0.044054 -0.005621  0.013863   \n",
       "899      2  0.013689 -0.037855  0.039763  0.035750  0.004115  0.005637   \n",
       "\n",
       "      embed_6   embed_7   embed_8  ...  embed_758  embed_759  embed_760  \\\n",
       "0   -0.045125  0.044483  0.019400  ...  -0.045697  -0.001972  -0.008154   \n",
       "1   -0.068723  0.039153  0.019596  ...  -0.056834   0.008613  -0.006578   \n",
       "2   -0.065093  0.035118  0.035359  ...  -0.016249   0.020413  -0.034288   \n",
       "3   -0.050945  0.044878  0.034781  ...  -0.038879   0.002963  -0.018754   \n",
       "4   -0.050590  0.042820  0.029161  ...  -0.042079   0.010192  -0.010147   \n",
       "..        ...       ...       ...  ...        ...        ...        ...   \n",
       "895 -0.037731  0.029718  0.009203  ...  -0.040456  -0.001192  -0.026138   \n",
       "896 -0.040816  0.032210  0.041016  ...  -0.026985   0.015479  -0.003967   \n",
       "897 -0.056508  0.020527  0.031972  ...  -0.041547   0.011308  -0.016882   \n",
       "898 -0.079196  0.039150  0.004557  ...  -0.057920   0.004005  -0.007196   \n",
       "899 -0.050556  0.024668  0.025077  ...  -0.039500  -0.000129  -0.003880   \n",
       "\n",
       "     embed_761  embed_762  embed_763  embed_764  embed_765  embed_766  \\\n",
       "0    -0.056139   0.009890   0.042366   0.040134   0.009304  -0.016137   \n",
       "1    -0.034220   0.027574   0.045456   0.027402   0.017837  -0.035009   \n",
       "2    -0.050649   0.028408   0.040412   0.030261   0.003535  -0.034122   \n",
       "3    -0.053278   0.033005   0.031635   0.022544  -0.011774  -0.011125   \n",
       "4    -0.035857   0.021784   0.034621   0.017342  -0.009884  -0.010316   \n",
       "..         ...        ...        ...        ...        ...        ...   \n",
       "895  -0.056447   0.015818   0.045241   0.012620  -0.004837  -0.014540   \n",
       "896  -0.037808   0.021234   0.031012  -0.010890   0.003081  -0.015145   \n",
       "897  -0.059904   0.009558   0.039976   0.029574   0.013737  -0.003724   \n",
       "898  -0.041652   0.020945   0.047604   0.019767   0.005806  -0.019280   \n",
       "899  -0.048696   0.015711   0.039773   0.036328   0.010483  -0.021304   \n",
       "\n",
       "     embed_767  \n",
       "0    -0.009309  \n",
       "1    -0.010062  \n",
       "2    -0.017289  \n",
       "3    -0.017540  \n",
       "4    -0.029238  \n",
       "..         ...  \n",
       "895  -0.046791  \n",
       "896  -0.045444  \n",
       "897  -0.017324  \n",
       "898  -0.016415  \n",
       "899  -0.032017  \n",
       "\n",
       "[900 rows x 769 columns]"
      ]
     },
     "execution_count": 2,
     "metadata": {},
     "output_type": "execute_result"
    }
   ],
   "source": [
    "df = pd.read_excel(r'embeddingsdata - Copy.xlsx')\n",
    "df"
   ]
  },
  {
   "cell_type": "code",
   "execution_count": 3,
   "id": "3e108a4f-5d3a-4a95-8398-0fc53f779596",
   "metadata": {},
   "outputs": [],
   "source": [
    "X = df['embed_0']\n",
    "y = df['embed_1']"
   ]
  },
  {
   "cell_type": "code",
   "execution_count": 7,
   "id": "aabf07f1-dedf-4880-8869-daddc893f259",
   "metadata": {},
   "outputs": [
    {
     "data": {
      "image/png": "[encoded data removed]",
      "text/plain": [
       "<Figure size 640x480 with 1 Axes>"
      ]
     },
     "metadata": {},
     "output_type": "display_data"
    }
   ],
   "source": [
    "plt.scatter(X,y,marker='o',edgecolors=\"black\")\n",
    "plt.grid()"
   ]
  },
  {
   "cell_type": "markdown",
   "id": "f7fb9673-799d-4b38-9538-6640f5f6f639",
   "metadata": {},
   "source": [
    "## A2"
   ]
  },
  {
   "cell_type": "markdown",
   "id": "f63023fb-3bd2-48ef-8442-eb77e3656743",
   "metadata": {},
   "source": [
    " Create a linear regression model on this data. Consider using one feature as independent \n",
    "variable while the other as dependent variable (you may also round this number to integer). After \n",
    "the model is created, calculate the mean square error by predicting the values from the model. "
   ]
  },
  {
   "cell_type": "code",
   "execution_count": 8,
   "id": "96ad8321-bfff-4b63-9dce-0a2a34220be4",
   "metadata": {},
   "outputs": [],
   "source": [
    "from sklearn.model_selection import train_test_split"
   ]
  },
  {
   "cell_type": "code",
   "execution_count": 15,
   "id": "780b6a23-edaf-44f6-9a26-3ba9fd0d5ce9",
   "metadata": {},
   "outputs": [],
   "source": [
    "df['embed_1'] = df['embed_1'].round(0)"
   ]
  },
  {
   "cell_type": "code",
   "execution_count": 25,
   "id": "e63d3319-e3c5-491c-bf74-96aa6ca8ee04",
   "metadata": {},
   "outputs": [],
   "source": [
    "X = df[['embed_0']]\n",
    "y = df['embed_1']"
   ]
  },
  {
   "cell_type": "code",
   "execution_count": 26,
   "id": "94f05801-8791-4e2a-ade5-dca7f25ccf0d",
   "metadata": {},
   "outputs": [],
   "source": [
    "X_train,X_test,y_train,y_test = train_test_split(X,y,test_size=0.3,random_state=42)"
   ]
  },
  {
   "cell_type": "code",
   "execution_count": 27,
   "id": "28f10fde-9f64-45de-b77a-2d92fc3a8c3b",
   "metadata": {},
   "outputs": [],
   "source": [
    "from sklearn.linear_model import LinearRegression"
   ]
  },
  {
   "cell_type": "code",
   "execution_count": 28,
   "id": "7836afa5-884d-45b8-abb7-f84414d06eb5",
   "metadata": {},
   "outputs": [],
   "source": [
    "model = LinearRegression()"
   ]
  },
  {
   "cell_type": "code",
   "execution_count": 29,
   "id": "90fc903e-6af2-4c3e-8725-537226a73e10",
   "metadata": {},
   "outputs": [
    {
     "data": {
      "text/html": [
       "<style>#sk-container-id-1 {color: black;}#sk-container-id-1 pre{padding: 0;}#sk-container-id-1 div.sk-toggleable {background-color: white;}#sk-container-id-1 label.sk-toggleable__label {cursor: pointer;display: block;width: 100%;margin-bottom: 0;padding: 0.3em;box-sizing: border-box;text-align: center;}#sk-container-id-1 label.sk-toggleable__label-arrow:before {content: \"▸\";float: left;margin-right: 0.25em;color: #696969;}#sk-container-id-1 label.sk-toggleable__label-arrow:hover:before {color: black;}#sk-container-id-1 div.sk-estimator:hover label.sk-toggleable__label-arrow:before {color: black;}#sk-container-id-1 div.sk-toggleable__content {max-height: 0;max-width: 0;overflow: hidden;text-align: left;background-color: #f0f8ff;}#sk-container-id-1 div.sk-toggleable__content pre {margin: 0.2em;color: black;border-radius: 0.25em;background-color: #f0f8ff;}#sk-container-id-1 input.sk-toggleable__control:checked~div.sk-toggleable__content {max-height: 200px;max-width: 100%;overflow: auto;}#sk-container-id-1 input.sk-toggleable__control:checked~label.sk-toggleable__label-arrow:before {content: \"▾\";}#sk-container-id-1 div.sk-estimator input.sk-toggleable__control:checked~label.sk-toggleable__label {background-color: #d4ebff;}#sk-container-id-1 div.sk-label input.sk-toggleable__control:checked~label.sk-toggleable__label {background-color: #d4ebff;}#sk-container-id-1 input.sk-hidden--visually {border: 0;clip: rect(1px 1px 1px 1px);clip: rect(1px, 1px, 1px, 1px);height: 1px;margin: -1px;overflow: hidden;padding: 0;position: absolute;width: 1px;}#sk-container-id-1 div.sk-estimator {font-family: monospace;background-color: #f0f8ff;border: 1px dotted black;border-radius: 0.25em;box-sizing: border-box;margin-bottom: 0.5em;}#sk-container-id-1 div.sk-estimator:hover {background-color: #d4ebff;}#sk-container-id-1 div.sk-parallel-item::after {content: \"\";width: 100%;border-bottom: 1px solid gray;flex-grow: 1;}#sk-container-id-1 div.sk-label:hover label.sk-toggleable__label {background-color: #d4ebff;}#sk-container-id-1 div.sk-serial::before {content: \"\";position: absolute;border-left: 1px solid gray;box-sizing: border-box;top: 0;bottom: 0;left: 50%;z-index: 0;}#sk-container-id-1 div.sk-serial {display: flex;flex-direction: column;align-items: center;background-color: white;padding-right: 0.2em;padding-left: 0.2em;position: relative;}#sk-container-id-1 div.sk-item {position: relative;z-index: 1;}#sk-container-id-1 div.sk-parallel {display: flex;align-items: stretch;justify-content: center;background-color: white;position: relative;}#sk-container-id-1 div.sk-item::before, #sk-container-id-1 div.sk-parallel-item::before {content: \"\";position: absolute;border-left: 1px solid gray;box-sizing: border-box;top: 0;bottom: 0;left: 50%;z-index: -1;}#sk-container-id-1 div.sk-parallel-item {display: flex;flex-direction: column;z-index: 1;position: relative;background-color: white;}#sk-container-id-1 div.sk-parallel-item:first-child::after {align-self: flex-end;width: 50%;}#sk-container-id-1 div.sk-parallel-item:last-child::after {align-self: flex-start;width: 50%;}#sk-container-id-1 div.sk-parallel-item:only-child::after {width: 0;}#sk-container-id-1 div.sk-dashed-wrapped {border: 1px dashed gray;margin: 0 0.4em 0.5em 0.4em;box-sizing: border-box;padding-bottom: 0.4em;background-color: white;}#sk-container-id-1 div.sk-label label {font-family: monospace;font-weight: bold;display: inline-block;line-height: 1.2em;}#sk-container-id-1 div.sk-label-container {text-align: center;}#sk-container-id-1 div.sk-container {/* jupyter's `normalize.less` sets `[hidden] { display: none; }` but bootstrap.min.css set `[hidden] { display: none !important; }` so we also need the `!important` here to be able to override the default hidden behavior on the sphinx rendered scikit-learn.org. See: https://github.com/scikit-learn/scikit-learn/issues/21755 */display: inline-block !important;position: relative;}#sk-container-id-1 div.sk-text-repr-fallback {display: none;}</style><div id=\"sk-container-id-1\" class=\"sk-top-container\"><div class=\"sk-text-repr-fallback\"><pre>LinearRegression()</pre><b>In a Jupyter environment, please rerun this cell to show the HTML representation or trust the notebook. <br />On GitHub, the HTML representation is unable to render, please try loading this page with nbviewer.org.</b></div><div class=\"sk-container\" hidden><div class=\"sk-item\"><div class=\"sk-estimator sk-toggleable\"><input class=\"sk-toggleable__control sk-hidden--visually\" id=\"sk-estimator-id-1\" type=\"checkbox\" checked><label for=\"sk-estimator-id-1\" class=\"sk-toggleable__label sk-toggleable__label-arrow\">LinearRegression</label><div class=\"sk-toggleable__content\"><pre>LinearRegression()</pre></div></div></div></div></div>"
      ],
      "text/plain": [
       "LinearRegression()"
      ]
     },
     "execution_count": 29,
     "metadata": {},
     "output_type": "execute_result"
    }
   ],
   "source": [
    "model.fit(X_train,y_train)"
   ]
  },
  {
   "cell_type": "code",
   "execution_count": 30,
   "id": "00046a97-9ec6-4c8d-ba33-c83cc88e6c0e",
   "metadata": {},
   "outputs": [],
   "source": [
    "pred=model.predict(X_test)"
   ]
  },
  {
   "cell_type": "code",
   "execution_count": 31,
   "id": "f502366f-e6fe-4725-a641-d96c1cc9d3cc",
   "metadata": {},
   "outputs": [],
   "source": [
    "from sklearn.metrics import classification_report,confusion_matrix"
   ]
  },
  {
   "cell_type": "code",
   "execution_count": 32,
   "id": "237e64e8-7514-4b19-be08-0f33e6eaa7d2",
   "metadata": {},
   "outputs": [
    {
     "name": "stdout",
     "output_type": "stream",
     "text": [
      "              precision    recall  f1-score   support\n",
      "\n",
      "        -0.0       1.00      1.00      1.00       270\n",
      "\n",
      "    accuracy                           1.00       270\n",
      "   macro avg       1.00      1.00      1.00       270\n",
      "weighted avg       1.00      1.00      1.00       270\n",
      "\n",
      "\n",
      "\n",
      "[[270]]\n"
     ]
    }
   ],
   "source": [
    "print(classification_report(y_test,pred))\n",
    "print(\"\\n\")\n",
    "print(confusion_matrix(y_test,pred))"
   ]
  },
  {
   "cell_type": "code",
   "execution_count": 33,
   "id": "bf937fc5-9662-4087-bbf4-60c0f43b92be",
   "metadata": {},
   "outputs": [],
   "source": [
    "from sklearn.metrics import mean_squared_error"
   ]
  },
  {
   "cell_type": "code",
   "execution_count": 36,
   "id": "55e2fdd1-ad56-4ea1-b71e-01121440fe60",
   "metadata": {},
   "outputs": [
    {
     "name": "stdout",
     "output_type": "stream",
     "text": [
      "0.0\n"
     ]
    }
   ],
   "source": [
    "print(mean_squared_error(y_test,pred))"
   ]
  },
  {
   "cell_type": "markdown",
   "id": "9f79c52a-6c06-4f93-b1c7-f5af63d1aa5b",
   "metadata": {},
   "source": [
    "## A3"
   ]
  },
  {
   "cell_type": "markdown",
   "id": "2de3140c-2399-4111-ad7a-d8fe08cc2c55",
   "metadata": {},
   "source": [
    " Study all the parameters and attributes associated with linear regression model."
   ]
  },
  {
   "cell_type": "code",
   "execution_count": 38,
   "id": "df4fe8dc-fb98-44b9-82d1-033c6e0d0835",
   "metadata": {},
   "outputs": [
    {
     "name": "stdout",
     "output_type": "stream",
     "text": [
      "Coefficients  =  [0.]\n",
      "Intercept =  0.0\n"
     ]
    }
   ],
   "source": [
    "coefficients = model.coef_\n",
    "intercept = model.intercept_\n",
    "\n",
    "print(\"Coefficients  = \",coefficients)\n",
    "print(\"Intercept = \",intercept)"
   ]
  },
  {
   "cell_type": "code",
   "execution_count": 39,
   "id": "e950bc51-6db4-462b-909b-850deaf4f002",
   "metadata": {},
   "outputs": [
    {
     "name": "stdout",
     "output_type": "stream",
     "text": [
      "R^2 Square =  1.0\n"
     ]
    }
   ],
   "source": [
    "r_squared = model.score(X_test, y_test)\n",
    "print(\"R^2 Square = \",r_squared)"
   ]
  },
  {
   "cell_type": "markdown",
   "id": "5127f00a-d191-4e22-9973-b9ee72b52910",
   "metadata": {},
   "source": [
    "## A4"
   ]
  },
  {
   "cell_type": "markdown",
   "id": "c7d9084b-1142-4ef1-a002-8c035e99b489",
   "metadata": {},
   "source": [
    "Using the training set available for your project, train a logistic regression classifier. Use this \n",
    "classifier to evaluate your test set accuracy. Study the various parameters associated with logistic \n",
    "regression model and the role they play in the model training"
   ]
  },
  {
   "cell_type": "code",
   "execution_count": 40,
   "id": "abd9e55b-a020-4b62-b671-45e062148350",
   "metadata": {
    "scrolled": true
   },
   "outputs": [
    {
     "data": {
      "text/html": [
       "<div>\n",
       "<style scoped>\n",
       "    .dataframe tbody tr th:only-of-type {\n",
       "        vertical-align: middle;\n",
       "    }\n",
       "\n",
       "    .dataframe tbody tr th {\n",
       "        vertical-align: top;\n",
       "    }\n",
       "\n",
       "    .dataframe thead th {\n",
       "        text-align: right;\n",
       "    }\n",
       "</style>\n",
       "<table border=\"1\" class=\"dataframe\">\n",
       "  <thead>\n",
       "    <tr style=\"text-align: right;\">\n",
       "      <th></th>\n",
       "      <th>Label</th>\n",
       "      <th>embed_0</th>\n",
       "      <th>embed_1</th>\n",
       "      <th>embed_2</th>\n",
       "      <th>embed_3</th>\n",
       "      <th>embed_4</th>\n",
       "      <th>embed_5</th>\n",
       "      <th>embed_6</th>\n",
       "      <th>embed_7</th>\n",
       "      <th>embed_8</th>\n",
       "      <th>...</th>\n",
       "      <th>embed_758</th>\n",
       "      <th>embed_759</th>\n",
       "      <th>embed_760</th>\n",
       "      <th>embed_761</th>\n",
       "      <th>embed_762</th>\n",
       "      <th>embed_763</th>\n",
       "      <th>embed_764</th>\n",
       "      <th>embed_765</th>\n",
       "      <th>embed_766</th>\n",
       "      <th>embed_767</th>\n",
       "    </tr>\n",
       "  </thead>\n",
       "  <tbody>\n",
       "    <tr>\n",
       "      <th>0</th>\n",
       "      <td>0</td>\n",
       "      <td>0.009625</td>\n",
       "      <td>-0.029216</td>\n",
       "      <td>0.027109</td>\n",
       "      <td>0.023631</td>\n",
       "      <td>-0.004972</td>\n",
       "      <td>0.031757</td>\n",
       "      <td>-0.045125</td>\n",
       "      <td>0.044483</td>\n",
       "      <td>0.019400</td>\n",
       "      <td>...</td>\n",
       "      <td>-0.045697</td>\n",
       "      <td>-0.001972</td>\n",
       "      <td>-0.008154</td>\n",
       "      <td>-0.056139</td>\n",
       "      <td>0.009890</td>\n",
       "      <td>0.042366</td>\n",
       "      <td>0.040134</td>\n",
       "      <td>0.009304</td>\n",
       "      <td>-0.016137</td>\n",
       "      <td>-0.009309</td>\n",
       "    </tr>\n",
       "    <tr>\n",
       "      <th>1</th>\n",
       "      <td>0</td>\n",
       "      <td>-0.007535</td>\n",
       "      <td>-0.039844</td>\n",
       "      <td>0.030167</td>\n",
       "      <td>0.031224</td>\n",
       "      <td>0.004742</td>\n",
       "      <td>0.028289</td>\n",
       "      <td>-0.068723</td>\n",
       "      <td>0.039153</td>\n",
       "      <td>0.019596</td>\n",
       "      <td>...</td>\n",
       "      <td>-0.056834</td>\n",
       "      <td>0.008613</td>\n",
       "      <td>-0.006578</td>\n",
       "      <td>-0.034220</td>\n",
       "      <td>0.027574</td>\n",
       "      <td>0.045456</td>\n",
       "      <td>0.027402</td>\n",
       "      <td>0.017837</td>\n",
       "      <td>-0.035009</td>\n",
       "      <td>-0.010062</td>\n",
       "    </tr>\n",
       "    <tr>\n",
       "      <th>2</th>\n",
       "      <td>0</td>\n",
       "      <td>0.022408</td>\n",
       "      <td>-0.030840</td>\n",
       "      <td>0.032328</td>\n",
       "      <td>0.046965</td>\n",
       "      <td>0.007798</td>\n",
       "      <td>0.025860</td>\n",
       "      <td>-0.065093</td>\n",
       "      <td>0.035118</td>\n",
       "      <td>0.035359</td>\n",
       "      <td>...</td>\n",
       "      <td>-0.016249</td>\n",
       "      <td>0.020413</td>\n",
       "      <td>-0.034288</td>\n",
       "      <td>-0.050649</td>\n",
       "      <td>0.028408</td>\n",
       "      <td>0.040412</td>\n",
       "      <td>0.030261</td>\n",
       "      <td>0.003535</td>\n",
       "      <td>-0.034122</td>\n",
       "      <td>-0.017289</td>\n",
       "    </tr>\n",
       "    <tr>\n",
       "      <th>3</th>\n",
       "      <td>0</td>\n",
       "      <td>0.019677</td>\n",
       "      <td>-0.034055</td>\n",
       "      <td>0.012662</td>\n",
       "      <td>0.070387</td>\n",
       "      <td>-0.011170</td>\n",
       "      <td>0.017842</td>\n",
       "      <td>-0.050945</td>\n",
       "      <td>0.044878</td>\n",
       "      <td>0.034781</td>\n",
       "      <td>...</td>\n",
       "      <td>-0.038879</td>\n",
       "      <td>0.002963</td>\n",
       "      <td>-0.018754</td>\n",
       "      <td>-0.053278</td>\n",
       "      <td>0.033005</td>\n",
       "      <td>0.031635</td>\n",
       "      <td>0.022544</td>\n",
       "      <td>-0.011774</td>\n",
       "      <td>-0.011125</td>\n",
       "      <td>-0.017540</td>\n",
       "    </tr>\n",
       "    <tr>\n",
       "      <th>4</th>\n",
       "      <td>0</td>\n",
       "      <td>0.017678</td>\n",
       "      <td>-0.030323</td>\n",
       "      <td>0.012829</td>\n",
       "      <td>0.065267</td>\n",
       "      <td>-0.025161</td>\n",
       "      <td>0.011964</td>\n",
       "      <td>-0.050590</td>\n",
       "      <td>0.042820</td>\n",
       "      <td>0.029161</td>\n",
       "      <td>...</td>\n",
       "      <td>-0.042079</td>\n",
       "      <td>0.010192</td>\n",
       "      <td>-0.010147</td>\n",
       "      <td>-0.035857</td>\n",
       "      <td>0.021784</td>\n",
       "      <td>0.034621</td>\n",
       "      <td>0.017342</td>\n",
       "      <td>-0.009884</td>\n",
       "      <td>-0.010316</td>\n",
       "      <td>-0.029238</td>\n",
       "    </tr>\n",
       "    <tr>\n",
       "      <th>...</th>\n",
       "      <td>...</td>\n",
       "      <td>...</td>\n",
       "      <td>...</td>\n",
       "      <td>...</td>\n",
       "      <td>...</td>\n",
       "      <td>...</td>\n",
       "      <td>...</td>\n",
       "      <td>...</td>\n",
       "      <td>...</td>\n",
       "      <td>...</td>\n",
       "      <td>...</td>\n",
       "      <td>...</td>\n",
       "      <td>...</td>\n",
       "      <td>...</td>\n",
       "      <td>...</td>\n",
       "      <td>...</td>\n",
       "      <td>...</td>\n",
       "      <td>...</td>\n",
       "      <td>...</td>\n",
       "      <td>...</td>\n",
       "      <td>...</td>\n",
       "    </tr>\n",
       "    <tr>\n",
       "      <th>895</th>\n",
       "      <td>2</td>\n",
       "      <td>0.019743</td>\n",
       "      <td>-0.071799</td>\n",
       "      <td>0.022546</td>\n",
       "      <td>0.049042</td>\n",
       "      <td>-0.005767</td>\n",
       "      <td>-0.016275</td>\n",
       "      <td>-0.037731</td>\n",
       "      <td>0.029718</td>\n",
       "      <td>0.009203</td>\n",
       "      <td>...</td>\n",
       "      <td>-0.040456</td>\n",
       "      <td>-0.001192</td>\n",
       "      <td>-0.026138</td>\n",
       "      <td>-0.056447</td>\n",
       "      <td>0.015818</td>\n",
       "      <td>0.045241</td>\n",
       "      <td>0.012620</td>\n",
       "      <td>-0.004837</td>\n",
       "      <td>-0.014540</td>\n",
       "      <td>-0.046791</td>\n",
       "    </tr>\n",
       "    <tr>\n",
       "      <th>896</th>\n",
       "      <td>0</td>\n",
       "      <td>0.000186</td>\n",
       "      <td>-0.027604</td>\n",
       "      <td>0.010623</td>\n",
       "      <td>0.038237</td>\n",
       "      <td>-0.026675</td>\n",
       "      <td>0.020215</td>\n",
       "      <td>-0.040816</td>\n",
       "      <td>0.032210</td>\n",
       "      <td>0.041016</td>\n",
       "      <td>...</td>\n",
       "      <td>-0.026985</td>\n",
       "      <td>0.015479</td>\n",
       "      <td>-0.003967</td>\n",
       "      <td>-0.037808</td>\n",
       "      <td>0.021234</td>\n",
       "      <td>0.031012</td>\n",
       "      <td>-0.010890</td>\n",
       "      <td>0.003081</td>\n",
       "      <td>-0.015145</td>\n",
       "      <td>-0.045444</td>\n",
       "    </tr>\n",
       "    <tr>\n",
       "      <th>897</th>\n",
       "      <td>2</td>\n",
       "      <td>0.018066</td>\n",
       "      <td>-0.032152</td>\n",
       "      <td>0.039794</td>\n",
       "      <td>0.047608</td>\n",
       "      <td>0.003898</td>\n",
       "      <td>0.024092</td>\n",
       "      <td>-0.056508</td>\n",
       "      <td>0.020527</td>\n",
       "      <td>0.031972</td>\n",
       "      <td>...</td>\n",
       "      <td>-0.041547</td>\n",
       "      <td>0.011308</td>\n",
       "      <td>-0.016882</td>\n",
       "      <td>-0.059904</td>\n",
       "      <td>0.009558</td>\n",
       "      <td>0.039976</td>\n",
       "      <td>0.029574</td>\n",
       "      <td>0.013737</td>\n",
       "      <td>-0.003724</td>\n",
       "      <td>-0.017324</td>\n",
       "    </tr>\n",
       "    <tr>\n",
       "      <th>898</th>\n",
       "      <td>5</td>\n",
       "      <td>-0.003492</td>\n",
       "      <td>-0.022739</td>\n",
       "      <td>0.021777</td>\n",
       "      <td>0.044054</td>\n",
       "      <td>-0.005621</td>\n",
       "      <td>0.013863</td>\n",
       "      <td>-0.079196</td>\n",
       "      <td>0.039150</td>\n",
       "      <td>0.004557</td>\n",
       "      <td>...</td>\n",
       "      <td>-0.057920</td>\n",
       "      <td>0.004005</td>\n",
       "      <td>-0.007196</td>\n",
       "      <td>-0.041652</td>\n",
       "      <td>0.020945</td>\n",
       "      <td>0.047604</td>\n",
       "      <td>0.019767</td>\n",
       "      <td>0.005806</td>\n",
       "      <td>-0.019280</td>\n",
       "      <td>-0.016415</td>\n",
       "    </tr>\n",
       "    <tr>\n",
       "      <th>899</th>\n",
       "      <td>2</td>\n",
       "      <td>0.013689</td>\n",
       "      <td>-0.037855</td>\n",
       "      <td>0.039763</td>\n",
       "      <td>0.035750</td>\n",
       "      <td>0.004115</td>\n",
       "      <td>0.005637</td>\n",
       "      <td>-0.050556</td>\n",
       "      <td>0.024668</td>\n",
       "      <td>0.025077</td>\n",
       "      <td>...</td>\n",
       "      <td>-0.039500</td>\n",
       "      <td>-0.000129</td>\n",
       "      <td>-0.003880</td>\n",
       "      <td>-0.048696</td>\n",
       "      <td>0.015711</td>\n",
       "      <td>0.039773</td>\n",
       "      <td>0.036328</td>\n",
       "      <td>0.010483</td>\n",
       "      <td>-0.021304</td>\n",
       "      <td>-0.032017</td>\n",
       "    </tr>\n",
       "  </tbody>\n",
       "</table>\n",
       "<p>900 rows × 769 columns</p>\n",
       "</div>"
      ],
      "text/plain": [
       "     Label   embed_0   embed_1   embed_2   embed_3   embed_4   embed_5  \\\n",
       "0        0  0.009625 -0.029216  0.027109  0.023631 -0.004972  0.031757   \n",
       "1        0 -0.007535 -0.039844  0.030167  0.031224  0.004742  0.028289   \n",
       "2        0  0.022408 -0.030840  0.032328  0.046965  0.007798  0.025860   \n",
       "3        0  0.019677 -0.034055  0.012662  0.070387 -0.011170  0.017842   \n",
       "4        0  0.017678 -0.030323  0.012829  0.065267 -0.025161  0.011964   \n",
       "..     ...       ...       ...       ...       ...       ...       ...   \n",
       "895      2  0.019743 -0.071799  0.022546  0.049042 -0.005767 -0.016275   \n",
       "896      0  0.000186 -0.027604  0.010623  0.038237 -0.026675  0.020215   \n",
       "897      2  0.018066 -0.032152  0.039794  0.047608  0.003898  0.024092   \n",
       "898      5 -0.003492 -0.022739  0.021777  0.044054 -0.005621  0.013863   \n",
       "899      2  0.013689 -0.037855  0.039763  0.035750  0.004115  0.005637   \n",
       "\n",
       "      embed_6   embed_7   embed_8  ...  embed_758  embed_759  embed_760  \\\n",
       "0   -0.045125  0.044483  0.019400  ...  -0.045697  -0.001972  -0.008154   \n",
       "1   -0.068723  0.039153  0.019596  ...  -0.056834   0.008613  -0.006578   \n",
       "2   -0.065093  0.035118  0.035359  ...  -0.016249   0.020413  -0.034288   \n",
       "3   -0.050945  0.044878  0.034781  ...  -0.038879   0.002963  -0.018754   \n",
       "4   -0.050590  0.042820  0.029161  ...  -0.042079   0.010192  -0.010147   \n",
       "..        ...       ...       ...  ...        ...        ...        ...   \n",
       "895 -0.037731  0.029718  0.009203  ...  -0.040456  -0.001192  -0.026138   \n",
       "896 -0.040816  0.032210  0.041016  ...  -0.026985   0.015479  -0.003967   \n",
       "897 -0.056508  0.020527  0.031972  ...  -0.041547   0.011308  -0.016882   \n",
       "898 -0.079196  0.039150  0.004557  ...  -0.057920   0.004005  -0.007196   \n",
       "899 -0.050556  0.024668  0.025077  ...  -0.039500  -0.000129  -0.003880   \n",
       "\n",
       "     embed_761  embed_762  embed_763  embed_764  embed_765  embed_766  \\\n",
       "0    -0.056139   0.009890   0.042366   0.040134   0.009304  -0.016137   \n",
       "1    -0.034220   0.027574   0.045456   0.027402   0.017837  -0.035009   \n",
       "2    -0.050649   0.028408   0.040412   0.030261   0.003535  -0.034122   \n",
       "3    -0.053278   0.033005   0.031635   0.022544  -0.011774  -0.011125   \n",
       "4    -0.035857   0.021784   0.034621   0.017342  -0.009884  -0.010316   \n",
       "..         ...        ...        ...        ...        ...        ...   \n",
       "895  -0.056447   0.015818   0.045241   0.012620  -0.004837  -0.014540   \n",
       "896  -0.037808   0.021234   0.031012  -0.010890   0.003081  -0.015145   \n",
       "897  -0.059904   0.009558   0.039976   0.029574   0.013737  -0.003724   \n",
       "898  -0.041652   0.020945   0.047604   0.019767   0.005806  -0.019280   \n",
       "899  -0.048696   0.015711   0.039773   0.036328   0.010483  -0.021304   \n",
       "\n",
       "     embed_767  \n",
       "0    -0.009309  \n",
       "1    -0.010062  \n",
       "2    -0.017289  \n",
       "3    -0.017540  \n",
       "4    -0.029238  \n",
       "..         ...  \n",
       "895  -0.046791  \n",
       "896  -0.045444  \n",
       "897  -0.017324  \n",
       "898  -0.016415  \n",
       "899  -0.032017  \n",
       "\n",
       "[900 rows x 769 columns]"
      ]
     },
     "execution_count": 40,
     "metadata": {},
     "output_type": "execute_result"
    }
   ],
   "source": [
    "df = pd.read_excel(r'embeddingsdata - Copy.xlsx')\n",
    "df"
   ]
  },
  {
   "cell_type": "code",
   "execution_count": 46,
   "id": "8811afc8-0b69-4693-b717-32fae5f3549d",
   "metadata": {},
   "outputs": [],
   "source": [
    "X = df[df.columns[1:]]\n",
    "y = df['Label']"
   ]
  },
  {
   "cell_type": "code",
   "execution_count": 42,
   "id": "ddc3e8d3-ce4c-4247-9658-680850daa940",
   "metadata": {},
   "outputs": [],
   "source": [
    "from sklearn.model_selection import train_test_split"
   ]
  },
  {
   "cell_type": "code",
   "execution_count": 43,
   "id": "a6d279f1-d22c-46d5-8601-ac68dc128edc",
   "metadata": {},
   "outputs": [],
   "source": [
    "X_train,X_test,y_train,y_test = train_test_split(X,y,test_size=0.3,random_state=42)"
   ]
  },
  {
   "cell_type": "code",
   "execution_count": 44,
   "id": "0eda4ddf-726d-4686-95f6-a7347034236d",
   "metadata": {},
   "outputs": [],
   "source": [
    "from sklearn.linear_model import LogisticRegression"
   ]
  },
  {
   "cell_type": "code",
   "execution_count": 45,
   "id": "f4fadc69-0581-412d-bd88-cbe26ddefcc3",
   "metadata": {},
   "outputs": [],
   "source": [
    "Lreg=LogisticRegression()"
   ]
  },
  {
   "cell_type": "code",
   "execution_count": 47,
   "id": "5e018010-3f92-493d-bb90-9857b8719666",
   "metadata": {},
   "outputs": [
    {
     "data": {
      "text/html": [
       "<style>#sk-container-id-2 {color: black;}#sk-container-id-2 pre{padding: 0;}#sk-container-id-2 div.sk-toggleable {background-color: white;}#sk-container-id-2 label.sk-toggleable__label {cursor: pointer;display: block;width: 100%;margin-bottom: 0;padding: 0.3em;box-sizing: border-box;text-align: center;}#sk-container-id-2 label.sk-toggleable__label-arrow:before {content: \"▸\";float: left;margin-right: 0.25em;color: #696969;}#sk-container-id-2 label.sk-toggleable__label-arrow:hover:before {color: black;}#sk-container-id-2 div.sk-estimator:hover label.sk-toggleable__label-arrow:before {color: black;}#sk-container-id-2 div.sk-toggleable__content {max-height: 0;max-width: 0;overflow: hidden;text-align: left;background-color: #f0f8ff;}#sk-container-id-2 div.sk-toggleable__content pre {margin: 0.2em;color: black;border-radius: 0.25em;background-color: #f0f8ff;}#sk-container-id-2 input.sk-toggleable__control:checked~div.sk-toggleable__content {max-height: 200px;max-width: 100%;overflow: auto;}#sk-container-id-2 input.sk-toggleable__control:checked~label.sk-toggleable__label-arrow:before {content: \"▾\";}#sk-container-id-2 div.sk-estimator input.sk-toggleable__control:checked~label.sk-toggleable__label {background-color: #d4ebff;}#sk-container-id-2 div.sk-label input.sk-toggleable__control:checked~label.sk-toggleable__label {background-color: #d4ebff;}#sk-container-id-2 input.sk-hidden--visually {border: 0;clip: rect(1px 1px 1px 1px);clip: rect(1px, 1px, 1px, 1px);height: 1px;margin: -1px;overflow: hidden;padding: 0;position: absolute;width: 1px;}#sk-container-id-2 div.sk-estimator {font-family: monospace;background-color: #f0f8ff;border: 1px dotted black;border-radius: 0.25em;box-sizing: border-box;margin-bottom: 0.5em;}#sk-container-id-2 div.sk-estimator:hover {background-color: #d4ebff;}#sk-container-id-2 div.sk-parallel-item::after {content: \"\";width: 100%;border-bottom: 1px solid gray;flex-grow: 1;}#sk-container-id-2 div.sk-label:hover label.sk-toggleable__label {background-color: #d4ebff;}#sk-container-id-2 div.sk-serial::before {content: \"\";position: absolute;border-left: 1px solid gray;box-sizing: border-box;top: 0;bottom: 0;left: 50%;z-index: 0;}#sk-container-id-2 div.sk-serial {display: flex;flex-direction: column;align-items: center;background-color: white;padding-right: 0.2em;padding-left: 0.2em;position: relative;}#sk-container-id-2 div.sk-item {position: relative;z-index: 1;}#sk-container-id-2 div.sk-parallel {display: flex;align-items: stretch;justify-content: center;background-color: white;position: relative;}#sk-container-id-2 div.sk-item::before, #sk-container-id-2 div.sk-parallel-item::before {content: \"\";position: absolute;border-left: 1px solid gray;box-sizing: border-box;top: 0;bottom: 0;left: 50%;z-index: -1;}#sk-container-id-2 div.sk-parallel-item {display: flex;flex-direction: column;z-index: 1;position: relative;background-color: white;}#sk-container-id-2 div.sk-parallel-item:first-child::after {align-self: flex-end;width: 50%;}#sk-container-id-2 div.sk-parallel-item:last-child::after {align-self: flex-start;width: 50%;}#sk-container-id-2 div.sk-parallel-item:only-child::after {width: 0;}#sk-container-id-2 div.sk-dashed-wrapped {border: 1px dashed gray;margin: 0 0.4em 0.5em 0.4em;box-sizing: border-box;padding-bottom: 0.4em;background-color: white;}#sk-container-id-2 div.sk-label label {font-family: monospace;font-weight: bold;display: inline-block;line-height: 1.2em;}#sk-container-id-2 div.sk-label-container {text-align: center;}#sk-container-id-2 div.sk-container {/* jupyter's `normalize.less` sets `[hidden] { display: none; }` but bootstrap.min.css set `[hidden] { display: none !important; }` so we also need the `!important` here to be able to override the default hidden behavior on the sphinx rendered scikit-learn.org. See: https://github.com/scikit-learn/scikit-learn/issues/21755 */display: inline-block !important;position: relative;}#sk-container-id-2 div.sk-text-repr-fallback {display: none;}</style><div id=\"sk-container-id-2\" class=\"sk-top-container\"><div class=\"sk-text-repr-fallback\"><pre>LogisticRegression()</pre><b>In a Jupyter environment, please rerun this cell to show the HTML representation or trust the notebook. <br />On GitHub, the HTML representation is unable to render, please try loading this page with nbviewer.org.</b></div><div class=\"sk-container\" hidden><div class=\"sk-item\"><div class=\"sk-estimator sk-toggleable\"><input class=\"sk-toggleable__control sk-hidden--visually\" id=\"sk-estimator-id-2\" type=\"checkbox\" checked><label for=\"sk-estimator-id-2\" class=\"sk-toggleable__label sk-toggleable__label-arrow\">LogisticRegression</label><div class=\"sk-toggleable__content\"><pre>LogisticRegression()</pre></div></div></div></div></div>"
      ],
      "text/plain": [
       "LogisticRegression()"
      ]
     },
     "execution_count": 47,
     "metadata": {},
     "output_type": "execute_result"
    }
   ],
   "source": [
    "Lreg.fit(X_train,y_train)"
   ]
  },
  {
   "cell_type": "code",
   "execution_count": 49,
   "id": "e7dd332f-10ef-445d-828f-562a6de94dae",
   "metadata": {},
   "outputs": [],
   "source": [
    "pred = Lreg.predict(X_test)"
   ]
  },
  {
   "cell_type": "code",
   "execution_count": 52,
   "id": "bcdc91ee-cba2-4570-a4e8-0c67b5364970",
   "metadata": {},
   "outputs": [
    {
     "name": "stdout",
     "output_type": "stream",
     "text": [
      "Accuracy: 0.57\n",
      "Classification Report:\n",
      "               precision    recall  f1-score   support\n",
      "\n",
      "           0       0.50      0.94      0.65       105\n",
      "           1       0.76      0.76      0.76        72\n",
      "           2       0.00      0.00      0.00        31\n",
      "           3       0.00      0.00      0.00         5\n",
      "           4       0.00      0.00      0.00         7\n",
      "           5       0.00      0.00      0.00        17\n",
      "           6       0.00      0.00      0.00        11\n",
      "           7       0.00      0.00      0.00         4\n",
      "           8       0.00      0.00      0.00         2\n",
      "           9       0.00      0.00      0.00        10\n",
      "          10       0.00      0.00      0.00         6\n",
      "\n",
      "    accuracy                           0.57       270\n",
      "   macro avg       0.11      0.16      0.13       270\n",
      "weighted avg       0.40      0.57      0.46       270\n",
      "\n"
     ]
    },
    {
     "name": "stderr",
     "output_type": "stream",
     "text": [
      "C:\\Users\\Prabhav - Laptop HP\\AppData\\Local\\Programs\\Python\\Python312\\Lib\\site-packages\\sklearn\\metrics\\_classification.py:1471: UndefinedMetricWarning: Precision and F-score are ill-defined and being set to 0.0 in labels with no predicted samples. Use `zero_division` parameter to control this behavior.\n",
      "  _warn_prf(average, modifier, msg_start, len(result))\n",
      "C:\\Users\\Prabhav - Laptop HP\\AppData\\Local\\Programs\\Python\\Python312\\Lib\\site-packages\\sklearn\\metrics\\_classification.py:1471: UndefinedMetricWarning: Precision and F-score are ill-defined and being set to 0.0 in labels with no predicted samples. Use `zero_division` parameter to control this behavior.\n",
      "  _warn_prf(average, modifier, msg_start, len(result))\n",
      "C:\\Users\\Prabhav - Laptop HP\\AppData\\Local\\Programs\\Python\\Python312\\Lib\\site-packages\\sklearn\\metrics\\_classification.py:1471: UndefinedMetricWarning: Precision and F-score are ill-defined and being set to 0.0 in labels with no predicted samples. Use `zero_division` parameter to control this behavior.\n",
      "  _warn_prf(average, modifier, msg_start, len(result))\n"
     ]
    }
   ],
   "source": [
    "from sklearn.metrics import accuracy_score\n",
    "from sklearn.metrics import classification_report\n",
    "\n",
    "accuracy = accuracy_score(y_test, pred)\n",
    "print(f\"Accuracy: {accuracy:.2f}\")\n",
    "\n",
    "\n",
    "report = classification_report(y_test, pred)\n",
    "print(\"Classification Report:\\n\", report)\n"
   ]
  },
  {
   "cell_type": "markdown",
   "id": "72a42bc2-118c-4076-840e-1b56e8643c04",
   "metadata": {},
   "source": [
    "## A5"
   ]
  },
  {
   "cell_type": "markdown",
   "id": "383692b8-7831-44ec-a32e-bd2d3db5df79",
   "metadata": {},
   "source": [
    "Use a Regression Tree and k-NN Regressor for value prediction. Use the data employed for A1"
   ]
  },
  {
   "cell_type": "code",
   "execution_count": 54,
   "id": "7564952d-4c7a-40fe-a8cb-61ac182b28f3",
   "metadata": {},
   "outputs": [],
   "source": [
    "from sklearn.tree import DecisionTreeRegressor\n",
    "\n",
    "tree_model = DecisionTreeRegressor()\n",
    "\n",
    "tree_model.fit(X_train, y_train)\n",
    "\n",
    "tree_predictions = tree_model.predict(X_test)"
   ]
  },
  {
   "cell_type": "code",
   "execution_count": 55,
   "id": "0273a53a-3941-45e0-8a60-027bbb1c856c",
   "metadata": {},
   "outputs": [
    {
     "name": "stdout",
     "output_type": "stream",
     "text": [
      "Regression Tree - MSE: 12.019444444444444\n",
      "Regression Tree - R-squared: -0.7091057510006322\n"
     ]
    }
   ],
   "source": [
    "from sklearn.metrics import mean_squared_error, r2_score\n",
    "\n",
    "tree_mse = mean_squared_error(y_test, tree_predictions)\n",
    "tree_r2 = r2_score(y_test, tree_predictions)\n",
    "print(\"Regression Tree - MSE:\", tree_mse)\n",
    "print(\"Regression Tree - R-squared:\", tree_r2)"
   ]
  },
  {
   "cell_type": "code",
   "execution_count": 56,
   "id": "15315814-03fe-4df3-9517-bad2a2377d87",
   "metadata": {},
   "outputs": [],
   "source": [
    "from sklearn.neighbors import KNeighborsRegressor\n",
    "\n",
    "knn_model = KNeighborsRegressor()\n",
    "\n",
    "knn_model.fit(X_train, y_train)\n",
    "\n",
    "knn_predictions = knn_model.predict(X_test)"
   ]
  },
  {
   "cell_type": "code",
   "execution_count": 57,
   "id": "cbd2d0f1-fbd2-4a7e-9823-e23f592f626f",
   "metadata": {},
   "outputs": [
    {
     "name": "stdout",
     "output_type": "stream",
     "text": [
      "k-NN Regressor - MSE: 6.399111111111112\n",
      "k-NN Regressor - R-squared: 0.090077943964609\n"
     ]
    }
   ],
   "source": [
    "knn_mse = mean_squared_error(y_test, knn_predictions)\n",
    "knn_r2 = r2_score(y_test, knn_predictions)\n",
    "print(\"k-NN Regressor - MSE:\", knn_mse)\n",
    "print(\"k-NN Regressor - R-squared:\", knn_r2)"
   ]
  }
 ],
 "metadata": {
  "kernelspec": {
   "display_name": "Python 3 (ipykernel)",
   "language": "python",
   "name": "python3"
  },
  "language_info": {
   "codemirror_mode": {
    "name": "ipython",
    "version": 3
   },
   "file_extension": ".py",
   "mimetype": "text/x-python",
   "name": "python",
   "nbconvert_exporter": "python",
   "pygments_lexer": "ipython3",
   "version": "3.12.1"
  }
 },
 "nbformat": 4,
 "nbformat_minor": 5
}
