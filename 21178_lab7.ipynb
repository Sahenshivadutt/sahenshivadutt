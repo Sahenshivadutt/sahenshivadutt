{
 "cells": [
  {
   "cell_type": "code",
   "execution_count": 3,
   "id": "3709e3e0-4e7d-4892-87aa-f2d93a7bcd2e",
   "metadata": {},
   "outputs": [],
   "source": [
    "import pandas as pd\n",
    "import numpy as np\n",
    "import seaborn as sns\n",
    "import matplotlib.pyplot as plt"
   ]
  },
  {
   "cell_type": "code",
   "execution_count": 4,
   "id": "344039ea-501d-40f1-b98c-c3e770ff9a87",
   "metadata": {},
   "outputs": [
    {
     "data": {
      "text/html": [
       "<div>\n",
       "<style scoped>\n",
       "    .dataframe tbody tr th:only-of-type {\n",
       "        vertical-align: middle;\n",
       "    }\n",
       "\n",
       "    .dataframe tbody tr th {\n",
       "        vertical-align: top;\n",
       "    }\n",
       "\n",
       "    .dataframe thead th {\n",
       "        text-align: right;\n",
       "    }\n",
       "</style>\n",
       "<table border=\"1\" class=\"dataframe\">\n",
       "  <thead>\n",
       "    <tr style=\"text-align: right;\">\n",
       "      <th></th>\n",
       "      <th>Label</th>\n",
       "      <th>embed_0</th>\n",
       "      <th>embed_1</th>\n",
       "      <th>embed_2</th>\n",
       "      <th>embed_3</th>\n",
       "      <th>embed_4</th>\n",
       "      <th>embed_5</th>\n",
       "      <th>embed_6</th>\n",
       "      <th>embed_7</th>\n",
       "      <th>embed_8</th>\n",
       "      <th>...</th>\n",
       "      <th>embed_758</th>\n",
       "      <th>embed_759</th>\n",
       "      <th>embed_760</th>\n",
       "      <th>embed_761</th>\n",
       "      <th>embed_762</th>\n",
       "      <th>embed_763</th>\n",
       "      <th>embed_764</th>\n",
       "      <th>embed_765</th>\n",
       "      <th>embed_766</th>\n",
       "      <th>embed_767</th>\n",
       "    </tr>\n",
       "  </thead>\n",
       "  <tbody>\n",
       "    <tr>\n",
       "      <th>0</th>\n",
       "      <td>0</td>\n",
       "      <td>0.009625</td>\n",
       "      <td>-0.029216</td>\n",
       "      <td>0.027109</td>\n",
       "      <td>0.023631</td>\n",
       "      <td>-0.004972</td>\n",
       "      <td>0.031757</td>\n",
       "      <td>-0.045125</td>\n",
       "      <td>0.044483</td>\n",
       "      <td>0.019400</td>\n",
       "      <td>...</td>\n",
       "      <td>-0.045697</td>\n",
       "      <td>-0.001972</td>\n",
       "      <td>-0.008154</td>\n",
       "      <td>-0.056139</td>\n",
       "      <td>0.009890</td>\n",
       "      <td>0.042366</td>\n",
       "      <td>0.040134</td>\n",
       "      <td>0.009304</td>\n",
       "      <td>-0.016137</td>\n",
       "      <td>-0.009309</td>\n",
       "    </tr>\n",
       "    <tr>\n",
       "      <th>1</th>\n",
       "      <td>0</td>\n",
       "      <td>-0.007535</td>\n",
       "      <td>-0.039844</td>\n",
       "      <td>0.030167</td>\n",
       "      <td>0.031224</td>\n",
       "      <td>0.004742</td>\n",
       "      <td>0.028289</td>\n",
       "      <td>-0.068723</td>\n",
       "      <td>0.039153</td>\n",
       "      <td>0.019596</td>\n",
       "      <td>...</td>\n",
       "      <td>-0.056834</td>\n",
       "      <td>0.008613</td>\n",
       "      <td>-0.006578</td>\n",
       "      <td>-0.034220</td>\n",
       "      <td>0.027574</td>\n",
       "      <td>0.045456</td>\n",
       "      <td>0.027402</td>\n",
       "      <td>0.017837</td>\n",
       "      <td>-0.035009</td>\n",
       "      <td>-0.010062</td>\n",
       "    </tr>\n",
       "    <tr>\n",
       "      <th>2</th>\n",
       "      <td>0</td>\n",
       "      <td>0.022408</td>\n",
       "      <td>-0.030840</td>\n",
       "      <td>0.032328</td>\n",
       "      <td>0.046965</td>\n",
       "      <td>0.007798</td>\n",
       "      <td>0.025860</td>\n",
       "      <td>-0.065093</td>\n",
       "      <td>0.035118</td>\n",
       "      <td>0.035359</td>\n",
       "      <td>...</td>\n",
       "      <td>-0.016249</td>\n",
       "      <td>0.020413</td>\n",
       "      <td>-0.034288</td>\n",
       "      <td>-0.050649</td>\n",
       "      <td>0.028408</td>\n",
       "      <td>0.040412</td>\n",
       "      <td>0.030261</td>\n",
       "      <td>0.003535</td>\n",
       "      <td>-0.034122</td>\n",
       "      <td>-0.017289</td>\n",
       "    </tr>\n",
       "    <tr>\n",
       "      <th>3</th>\n",
       "      <td>0</td>\n",
       "      <td>0.019677</td>\n",
       "      <td>-0.034055</td>\n",
       "      <td>0.012662</td>\n",
       "      <td>0.070387</td>\n",
       "      <td>-0.011170</td>\n",
       "      <td>0.017842</td>\n",
       "      <td>-0.050945</td>\n",
       "      <td>0.044878</td>\n",
       "      <td>0.034781</td>\n",
       "      <td>...</td>\n",
       "      <td>-0.038879</td>\n",
       "      <td>0.002963</td>\n",
       "      <td>-0.018754</td>\n",
       "      <td>-0.053278</td>\n",
       "      <td>0.033005</td>\n",
       "      <td>0.031635</td>\n",
       "      <td>0.022544</td>\n",
       "      <td>-0.011774</td>\n",
       "      <td>-0.011125</td>\n",
       "      <td>-0.017540</td>\n",
       "    </tr>\n",
       "    <tr>\n",
       "      <th>4</th>\n",
       "      <td>0</td>\n",
       "      <td>0.017678</td>\n",
       "      <td>-0.030323</td>\n",
       "      <td>0.012829</td>\n",
       "      <td>0.065267</td>\n",
       "      <td>-0.025161</td>\n",
       "      <td>0.011964</td>\n",
       "      <td>-0.050590</td>\n",
       "      <td>0.042820</td>\n",
       "      <td>0.029161</td>\n",
       "      <td>...</td>\n",
       "      <td>-0.042079</td>\n",
       "      <td>0.010192</td>\n",
       "      <td>-0.010147</td>\n",
       "      <td>-0.035857</td>\n",
       "      <td>0.021784</td>\n",
       "      <td>0.034621</td>\n",
       "      <td>0.017342</td>\n",
       "      <td>-0.009884</td>\n",
       "      <td>-0.010316</td>\n",
       "      <td>-0.029238</td>\n",
       "    </tr>\n",
       "  </tbody>\n",
       "</table>\n",
       "<p>5 rows × 769 columns</p>\n",
       "</div>"
      ],
      "text/plain": [
       "   Label   embed_0   embed_1   embed_2   embed_3   embed_4   embed_5  \\\n",
       "0      0  0.009625 -0.029216  0.027109  0.023631 -0.004972  0.031757   \n",
       "1      0 -0.007535 -0.039844  0.030167  0.031224  0.004742  0.028289   \n",
       "2      0  0.022408 -0.030840  0.032328  0.046965  0.007798  0.025860   \n",
       "3      0  0.019677 -0.034055  0.012662  0.070387 -0.011170  0.017842   \n",
       "4      0  0.017678 -0.030323  0.012829  0.065267 -0.025161  0.011964   \n",
       "\n",
       "    embed_6   embed_7   embed_8  ...  embed_758  embed_759  embed_760  \\\n",
       "0 -0.045125  0.044483  0.019400  ...  -0.045697  -0.001972  -0.008154   \n",
       "1 -0.068723  0.039153  0.019596  ...  -0.056834   0.008613  -0.006578   \n",
       "2 -0.065093  0.035118  0.035359  ...  -0.016249   0.020413  -0.034288   \n",
       "3 -0.050945  0.044878  0.034781  ...  -0.038879   0.002963  -0.018754   \n",
       "4 -0.050590  0.042820  0.029161  ...  -0.042079   0.010192  -0.010147   \n",
       "\n",
       "   embed_761  embed_762  embed_763  embed_764  embed_765  embed_766  embed_767  \n",
       "0  -0.056139   0.009890   0.042366   0.040134   0.009304  -0.016137  -0.009309  \n",
       "1  -0.034220   0.027574   0.045456   0.027402   0.017837  -0.035009  -0.010062  \n",
       "2  -0.050649   0.028408   0.040412   0.030261   0.003535  -0.034122  -0.017289  \n",
       "3  -0.053278   0.033005   0.031635   0.022544  -0.011774  -0.011125  -0.017540  \n",
       "4  -0.035857   0.021784   0.034621   0.017342  -0.009884  -0.010316  -0.029238  \n",
       "\n",
       "[5 rows x 769 columns]"
      ]
     },
     "execution_count": 4,
     "metadata": {},
     "output_type": "execute_result"
    }
   ],
   "source": [
    "df = pd.read_excel(r'embeddingsdata - Copy.xlsx')\n",
    "df.head()"
   ]
  },
  {
   "cell_type": "markdown",
   "id": "1087d545-f888-4259-b7e0-8af6bf7725c3",
   "metadata": {},
   "source": [
    "## A1"
   ]
  },
  {
   "cell_type": "markdown",
   "id": "f6854102-3614-4310-8106-2a98de9f2cde",
   "metadata": {},
   "source": [
    "Train a support vector machine using the training set obtained from above exerciseyou’re yourdataset has multiple classes, take any two classes for this exercise."
   ]
  },
  {
   "cell_type": "code",
   "execution_count": 5,
   "id": "edd05a2f-0b77-469e-a857-c8aba4b465b8",
   "metadata": {},
   "outputs": [],
   "source": [
    "X = df[df.columns[1:]]\n",
    "y = df['Label']"
   ]
  },
  {
   "cell_type": "code",
   "execution_count": 6,
   "id": "16a9c583-c471-43e3-9960-28629b8920d8",
   "metadata": {},
   "outputs": [],
   "source": [
    "from sklearn.model_selection import train_test_split"
   ]
  },
  {
   "cell_type": "code",
   "execution_count": 7,
   "id": "1136240c-83b3-4482-9988-7c7052adccbd",
   "metadata": {},
   "outputs": [],
   "source": [
    "X_train , X_test , y_train , y_test = train_test_split(X,y,test_size=0.3,random_state=42)"
   ]
  },
  {
   "cell_type": "code",
   "execution_count": 8,
   "id": "cfeeef07-9691-45df-ad86-0e9a6fc34ee8",
   "metadata": {},
   "outputs": [],
   "source": [
    "from sklearn import svm"
   ]
  },
  {
   "cell_type": "code",
   "execution_count": 9,
   "id": "1d7d7c04-60d6-4476-854e-abe928dfe0d5",
   "metadata": {},
   "outputs": [],
   "source": [
    "clf= svm.SVC()"
   ]
  },
  {
   "cell_type": "code",
   "execution_count": 10,
   "id": "045b1782-9f82-45f4-bb84-495b8f55b8bb",
   "metadata": {},
   "outputs": [
    {
     "data": {
      "text/html": [
       "<style>#sk-container-id-1 {color: black;}#sk-container-id-1 pre{padding: 0;}#sk-container-id-1 div.sk-toggleable {background-color: white;}#sk-container-id-1 label.sk-toggleable__label {cursor: pointer;display: block;width: 100%;margin-bottom: 0;padding: 0.3em;box-sizing: border-box;text-align: center;}#sk-container-id-1 label.sk-toggleable__label-arrow:before {content: \"▸\";float: left;margin-right: 0.25em;color: #696969;}#sk-container-id-1 label.sk-toggleable__label-arrow:hover:before {color: black;}#sk-container-id-1 div.sk-estimator:hover label.sk-toggleable__label-arrow:before {color: black;}#sk-container-id-1 div.sk-toggleable__content {max-height: 0;max-width: 0;overflow: hidden;text-align: left;background-color: #f0f8ff;}#sk-container-id-1 div.sk-toggleable__content pre {margin: 0.2em;color: black;border-radius: 0.25em;background-color: #f0f8ff;}#sk-container-id-1 input.sk-toggleable__control:checked~div.sk-toggleable__content {max-height: 200px;max-width: 100%;overflow: auto;}#sk-container-id-1 input.sk-toggleable__control:checked~label.sk-toggleable__label-arrow:before {content: \"▾\";}#sk-container-id-1 div.sk-estimator input.sk-toggleable__control:checked~label.sk-toggleable__label {background-color: #d4ebff;}#sk-container-id-1 div.sk-label input.sk-toggleable__control:checked~label.sk-toggleable__label {background-color: #d4ebff;}#sk-container-id-1 input.sk-hidden--visually {border: 0;clip: rect(1px 1px 1px 1px);clip: rect(1px, 1px, 1px, 1px);height: 1px;margin: -1px;overflow: hidden;padding: 0;position: absolute;width: 1px;}#sk-container-id-1 div.sk-estimator {font-family: monospace;background-color: #f0f8ff;border: 1px dotted black;border-radius: 0.25em;box-sizing: border-box;margin-bottom: 0.5em;}#sk-container-id-1 div.sk-estimator:hover {background-color: #d4ebff;}#sk-container-id-1 div.sk-parallel-item::after {content: \"\";width: 100%;border-bottom: 1px solid gray;flex-grow: 1;}#sk-container-id-1 div.sk-label:hover label.sk-toggleable__label {background-color: #d4ebff;}#sk-container-id-1 div.sk-serial::before {content: \"\";position: absolute;border-left: 1px solid gray;box-sizing: border-box;top: 0;bottom: 0;left: 50%;z-index: 0;}#sk-container-id-1 div.sk-serial {display: flex;flex-direction: column;align-items: center;background-color: white;padding-right: 0.2em;padding-left: 0.2em;position: relative;}#sk-container-id-1 div.sk-item {position: relative;z-index: 1;}#sk-container-id-1 div.sk-parallel {display: flex;align-items: stretch;justify-content: center;background-color: white;position: relative;}#sk-container-id-1 div.sk-item::before, #sk-container-id-1 div.sk-parallel-item::before {content: \"\";position: absolute;border-left: 1px solid gray;box-sizing: border-box;top: 0;bottom: 0;left: 50%;z-index: -1;}#sk-container-id-1 div.sk-parallel-item {display: flex;flex-direction: column;z-index: 1;position: relative;background-color: white;}#sk-container-id-1 div.sk-parallel-item:first-child::after {align-self: flex-end;width: 50%;}#sk-container-id-1 div.sk-parallel-item:last-child::after {align-self: flex-start;width: 50%;}#sk-container-id-1 div.sk-parallel-item:only-child::after {width: 0;}#sk-container-id-1 div.sk-dashed-wrapped {border: 1px dashed gray;margin: 0 0.4em 0.5em 0.4em;box-sizing: border-box;padding-bottom: 0.4em;background-color: white;}#sk-container-id-1 div.sk-label label {font-family: monospace;font-weight: bold;display: inline-block;line-height: 1.2em;}#sk-container-id-1 div.sk-label-container {text-align: center;}#sk-container-id-1 div.sk-container {/* jupyter's `normalize.less` sets `[hidden] { display: none; }` but bootstrap.min.css set `[hidden] { display: none !important; }` so we also need the `!important` here to be able to override the default hidden behavior on the sphinx rendered scikit-learn.org. See: https://github.com/scikit-learn/scikit-learn/issues/21755 */display: inline-block !important;position: relative;}#sk-container-id-1 div.sk-text-repr-fallback {display: none;}</style><div id=\"sk-container-id-1\" class=\"sk-top-container\"><div class=\"sk-text-repr-fallback\"><pre>SVC()</pre><b>In a Jupyter environment, please rerun this cell to show the HTML representation or trust the notebook. <br />On GitHub, the HTML representation is unable to render, please try loading this page with nbviewer.org.</b></div><div class=\"sk-container\" hidden><div class=\"sk-item\"><div class=\"sk-estimator sk-toggleable\"><input class=\"sk-toggleable__control sk-hidden--visually\" id=\"sk-estimator-id-1\" type=\"checkbox\" checked><label for=\"sk-estimator-id-1\" class=\"sk-toggleable__label sk-toggleable__label-arrow\">SVC</label><div class=\"sk-toggleable__content\"><pre>SVC()</pre></div></div></div></div></div>"
      ],
      "text/plain": [
       "SVC()"
      ]
     },
     "execution_count": 10,
     "metadata": {},
     "output_type": "execute_result"
    }
   ],
   "source": [
    "clf.fit(X_train,y_train)"
   ]
  },
  {
   "cell_type": "code",
   "execution_count": 11,
   "id": "602e983f-c977-4de8-a66b-5ef088ebb0a2",
   "metadata": {},
   "outputs": [
    {
     "data": {
      "text/plain": [
       "array([[ 0.01455336, -0.03024836,  0.01896371, ...,  0.00770176,\n",
       "        -0.01886826, -0.02149862],\n",
       "       [ 0.00868154, -0.0291283 ,  0.03167596, ...,  0.00350518,\n",
       "        -0.02659446, -0.02214345],\n",
       "       [ 0.00423006, -0.03914441,  0.01262215, ...,  0.01100539,\n",
       "        -0.03064076, -0.04991988],\n",
       "       ...,\n",
       "       [-0.01633175, -0.00580312,  0.0140028 , ..., -0.00251815,\n",
       "        -0.02201059, -0.00518822],\n",
       "       [ 0.00090481, -0.02699681,  0.00107208, ...,  0.01125898,\n",
       "        -0.02177747, -0.014525  ],\n",
       "       [-0.00458735, -0.03566458,  0.00960748, ...,  0.01745316,\n",
       "        -0.01321469, -0.01471795]])"
      ]
     },
     "execution_count": 11,
     "metadata": {},
     "output_type": "execute_result"
    }
   ],
   "source": [
    "clf.support_vectors_"
   ]
  },
  {
   "cell_type": "markdown",
   "id": "fcb5b11d-3e0a-4b0d-ad89-efd690a49c0a",
   "metadata": {},
   "source": [
    "## A2"
   ]
  },
  {
   "cell_type": "markdown",
   "id": "9366be26-175f-4adc-8046-c06ca4286ff8",
   "metadata": {},
   "source": [
    "Test the accuracy of the SVM using the test set obtained from above exercise. Following code for help."
   ]
  },
  {
   "cell_type": "code",
   "execution_count": 12,
   "id": "abb48874-8f0b-40d3-9c65-3bbfd1ca13ba",
   "metadata": {},
   "outputs": [
    {
     "data": {
      "text/plain": [
       "0.5851851851851851"
      ]
     },
     "execution_count": 12,
     "metadata": {},
     "output_type": "execute_result"
    }
   ],
   "source": [
    "clf.score(X_test,y_test)"
   ]
  },
  {
   "cell_type": "markdown",
   "id": "df3f84fd-8205-4545-b769-96402a7d9b89",
   "metadata": {},
   "source": [
    "## A3"
   ]
  },
  {
   "cell_type": "markdown",
   "id": "06206716-98d2-4fe7-8cb1-b9aabb248197",
   "metadata": {},
   "source": [
    " Use the Predict function of SVC classifier to study the output values of the classifier. Relate the output value to the class value predicted. Test the accuracy of the SVM, with your own logic of class determination and comparing against the class labels, using the test set obtained from above exercise. Following code for help."
   ]
  },
  {
   "cell_type": "code",
   "execution_count": 16,
   "id": "6cccd4cf-bf6b-434d-a9f4-d6edb1efcdbb",
   "metadata": {},
   "outputs": [],
   "source": [
    "pred = clf.predict(X_test)"
   ]
  },
  {
   "cell_type": "code",
   "execution_count": 15,
   "id": "307ee6f2-d3b2-4275-8dbc-8146de4e56ef",
   "metadata": {},
   "outputs": [],
   "source": [
    "from sklearn.metrics import confusion_matrix, classification_report"
   ]
  },
  {
   "cell_type": "code",
   "execution_count": 17,
   "id": "4a5f80e8-3ffa-4f86-a950-8a5f0936a444",
   "metadata": {},
   "outputs": [
    {
     "name": "stdout",
     "output_type": "stream",
     "text": [
      "[[100   5   0   0   0   0   0   0   0   0   0]\n",
      " [ 14  58   0   0   0   0   0   0   0   0   0]\n",
      " [ 29   2   0   0   0   0   0   0   0   0   0]\n",
      " [  3   2   0   0   0   0   0   0   0   0   0]\n",
      " [  7   0   0   0   0   0   0   0   0   0   0]\n",
      " [ 14   3   0   0   0   0   0   0   0   0   0]\n",
      " [ 11   0   0   0   0   0   0   0   0   0   0]\n",
      " [  0   4   0   0   0   0   0   0   0   0   0]\n",
      " [  2   0   0   0   0   0   0   0   0   0   0]\n",
      " [ 10   0   0   0   0   0   0   0   0   0   0]\n",
      " [  6   0   0   0   0   0   0   0   0   0   0]]\n",
      "              precision    recall  f1-score   support\n",
      "\n",
      "           0       0.51      0.95      0.66       105\n",
      "           1       0.78      0.81      0.79        72\n",
      "           2       0.00      0.00      0.00        31\n",
      "           3       0.00      0.00      0.00         5\n",
      "           4       0.00      0.00      0.00         7\n",
      "           5       0.00      0.00      0.00        17\n",
      "           6       0.00      0.00      0.00        11\n",
      "           7       0.00      0.00      0.00         4\n",
      "           8       0.00      0.00      0.00         2\n",
      "           9       0.00      0.00      0.00        10\n",
      "          10       0.00      0.00      0.00         6\n",
      "\n",
      "    accuracy                           0.59       270\n",
      "   macro avg       0.12      0.16      0.13       270\n",
      "weighted avg       0.41      0.59      0.47       270\n",
      "\n"
     ]
    },
    {
     "name": "stderr",
     "output_type": "stream",
     "text": [
      "C:\\Users\\Pranav\\AppData\\Local\\Programs\\Python\\Python311\\Lib\\site-packages\\sklearn\\metrics\\_classification.py:1469: UndefinedMetricWarning: Precision and F-score are ill-defined and being set to 0.0 in labels with no predicted samples. Use `zero_division` parameter to control this behavior.\n",
      "  _warn_prf(average, modifier, msg_start, len(result))\n",
      "C:\\Users\\Pranav\\AppData\\Local\\Programs\\Python\\Python311\\Lib\\site-packages\\sklearn\\metrics\\_classification.py:1469: UndefinedMetricWarning: Precision and F-score are ill-defined and being set to 0.0 in labels with no predicted samples. Use `zero_division` parameter to control this behavior.\n",
      "  _warn_prf(average, modifier, msg_start, len(result))\n",
      "C:\\Users\\Pranav\\AppData\\Local\\Programs\\Python\\Python311\\Lib\\site-packages\\sklearn\\metrics\\_classification.py:1469: UndefinedMetricWarning: Precision and F-score are ill-defined and being set to 0.0 in labels with no predicted samples. Use `zero_division` parameter to control this behavior.\n",
      "  _warn_prf(average, modifier, msg_start, len(result))\n"
     ]
    }
   ],
   "source": [
    "print(confusion_matrix(y_test,pred))\n",
    "print(classification_report(y_test,pred))"
   ]
  },
  {
   "cell_type": "markdown",
   "id": "958ae9b9-64b6-4749-943e-ebebe8501617",
   "metadata": {},
   "source": [
    "## A4"
   ]
  },
  {
   "cell_type": "markdown",
   "id": "5436b95d-65c6-447d-9a02-d6246fcba89d",
   "metadata": {},
   "source": [
    "Experiment with various kernel functions (‘linear’, ‘poly’, ‘rbf’&‘sigmoid’) to train and test the accuracy of the models."
   ]
  },
  {
   "cell_type": "code",
   "execution_count": 23,
   "id": "6836b992-7af3-4245-9e3c-43989435b531",
   "metadata": {},
   "outputs": [
    {
     "name": "stdout",
     "output_type": "stream",
     "text": [
      "Kernel: linear, Accuracy: 0.5815\n",
      "Kernel: poly, Accuracy: 0.5852\n",
      "Kernel: rbf, Accuracy: 0.5852\n",
      "Kernel: sigmoid, Accuracy: 0.5667\n"
     ]
    }
   ],
   "source": [
    "from sklearn.svm import SVC\n",
    "from sklearn.metrics import accuracy_score\n",
    "\n",
    "kernels = ['linear', 'poly', 'rbf', 'sigmoid']\n",
    "\n",
    "for kernel in kernels:\n",
    "    svm = SVC(kernel=kernel, random_state=42)\n",
    "    svm.fit(X_train, y_train)\n",
    "    y_pred = svm.predict(X_test)\n",
    "    accuracy = accuracy_score(y_test, y_pred)\n",
    "    print(f\"Kernel: {kernel}, Accuracy: {accuracy:.4f}\")"
   ]
  },
  {
   "cell_type": "markdown",
   "id": "a462dbc0-a5b7-432d-be5e-ff021b170e45",
   "metadata": {},
   "source": [
    "#### This code is written only by Prabhav Ravi Tammanashastri"
   ]
  }
 ],
 "metadata": {
  "kernelspec": {
   "display_name": "Python 3 (ipykernel)",
   "language": "python",
   "name": "python3"
  },
  "language_info": {
   "codemirror_mode": {
    "name": "ipython",
    "version": 3
   },
   "file_extension": ".py",
   "mimetype": "text/x-python",
   "name": "python",
   "nbconvert_exporter": "python",
   "pygments_lexer": "ipython3",
   "version": "3.12.1"
  }
 },
 "nbformat": 4,
 "nbformat_minor": 5
}
